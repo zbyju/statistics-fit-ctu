{
 "cells": [
  {
   "cell_type": "markdown",
   "metadata": {},
   "source": [
    "Soubor X - 011.txt\n",
    "Soubor Y - 007.txt"
   ]
  },
  {
   "cell_type": "code",
   "execution_count": 49,
   "metadata": {},
   "outputs": [],
   "source": [
    "import math\n",
    "# import numpy as np\n",
    "import matplotlib.pyplot as plt\n",
    "from collections import Counter"
   ]
  },
  {
   "cell_type": "code",
   "execution_count": 50,
   "metadata": {},
   "outputs": [
    {
     "name": "stdout",
     "output_type": "stream",
     "text": [
      "6123\n",
      "5833\n"
     ]
    }
   ],
   "source": [
    "# Load files\n",
    "pathX = \"./inputs/011.txt\"\n",
    "pathY = \"./inputs/007.txt\"\n",
    "x = open(pathX).readlines()[1:][0].replace(\" \", \"␣\")\n",
    "y = open(pathY).readlines()[1:][0].replace(\" \", \"␣\")\n",
    "\n",
    "lx = len(x)\n",
    "ly = len(y)\n",
    "\n",
    "countX = Counter(x)\n",
    "countY = Counter(y)\n",
    "\n",
    "print(lx)\n",
    "print(ly)"
   ]
  },
  {
   "cell_type": "code",
   "execution_count": 51,
   "metadata": {},
   "outputs": [],
   "source": [
    "def calc_probabilities(counts, text_len):\n",
    "    probabilities = {}\n",
    "    for c in counts.keys():\n",
    "        probability = counts[c] / text_len\n",
    "        probabilities[c] = probability\n",
    "    return probabilities\n"
   ]
  },
  {
   "cell_type": "code",
   "execution_count": 52,
   "metadata": {},
   "outputs": [],
   "source": [
    "def sort_dict_value(dict_to_sort):\n",
    "    return dict(sorted(dict_to_sort.items(), key=lambda item: item[1], reverse=True))\n"
   ]
  },
  {
   "cell_type": "code",
   "execution_count": 53,
   "metadata": {},
   "outputs": [],
   "source": [
    "def draw_pst_plot(counts, text_len, caption):\n",
    "    probabilities = calc_probabilities(counts, text_len)\n",
    "    sorted_probabilities = sort_dict_value(probabilities)\n",
    "    plt.bar(range(len(sorted_probabilities)), list(\n",
    "        sorted_probabilities.values()), align='center')\n",
    "    plt.xticks(range(len(sorted_probabilities)),\n",
    "               list(sorted_probabilities.keys()))\n",
    "    plt.ylabel('Odhad pravděpodobnosti')\n",
    "    plt.xlabel('Znak')\n",
    "    plt.suptitle(caption)\n",
    "    plt.show()\n",
    "    \n"
   ]
  },
  {
   "cell_type": "code",
   "execution_count": 54,
   "metadata": {},
   "outputs": [
    {
     "data": {
      "image/png": "[encoded data removed]",
      "text/plain": [
       "<Figure size 432x288 with 1 Axes>"
      ]
     },
     "metadata": {
      "needs_background": "light"
     },
     "output_type": "display_data"
    },
    {
     "data": {
      "image/png": "[encoded data removed]",
      "text/plain": [
       "<Figure size 432x288 with 1 Axes>"
      ]
     },
     "metadata": {
      "needs_background": "light"
     },
     "output_type": "display_data"
    }
   ],
   "source": [
    "draw_pst_plot(countX, lx, \"Odhad pravděpodobnosti jednotlivých znaků pro text X\")\n",
    "draw_pst_plot(countY, ly, \"Odhad pravděpodobnosti jednotlivých znaků pro text Y\")"
   ]
  },
  {
   "cell_type": "code",
   "execution_count": 55,
   "metadata": {},
   "outputs": [],
   "source": [
    "def calc_entropy(counts, text_len):\n",
    "    entropy = 0\n",
    "    for c in counts.keys():\n",
    "        probability = counts[c] / text_len\n",
    "        entropy += (- (probability * math.log2(probability)))\n",
    "    return entropy"
   ]
  },
  {
   "cell_type": "code",
   "execution_count": 56,
   "metadata": {},
   "outputs": [
    {
     "name": "stdout",
     "output_type": "stream",
     "text": [
      "4.0639057100402844\n",
      "4.05314575306802\n"
     ]
    }
   ],
   "source": [
    "hx = calc_entropy(countX, lx)\n",
    "hy = calc_entropy(countY, ly)\n",
    "\n",
    "print(hx)\n",
    "print(hy)"
   ]
  },
  {
   "cell_type": "code",
   "execution_count": 57,
   "metadata": {},
   "outputs": [
    {
     "name": "stdout",
     "output_type": "stream",
     "text": [
      " Char | Huffman code \n",
      "----------------------\n",
      " 'z'  | 11111110000\n",
      " 'q'  | 11111110001\n",
      " 'x'  |  1111111001\n",
      " 'j'  |   111111101\n",
      " 'v'  |    11111111\n",
      " 'k'  |     1111110\n",
      " 'b'  |      011000\n",
      " 'p'  |      011001\n",
      " 'g'  |      011010\n",
      " 'c'  |      011011\n",
      " 'f'  |      110010\n",
      " 'w'  |      110011\n",
      " 'y'  |      111110\n",
      " 'm'  |       00110\n",
      " 'u'  |       00111\n",
      " 'l'  |       11000\n",
      " 'd'  |       11110\n",
      " 'r'  |        0000\n",
      " 's'  |        0001\n",
      " 'i'  |        0010\n",
      " 'n'  |        0100\n",
      " 'h'  |        0101\n",
      " 'a'  |        0111\n",
      " 'o'  |        1101\n",
      " 't'  |        1110\n",
      " 'e'  |         101\n",
      " '␣'  |         100\n"
     ]
    }
   ],
   "source": [
    "class NodeTree(object):\n",
    "    def __init__(self, left=None, right=None):\n",
    "        self.left = left\n",
    "        self.right = right\n",
    "\n",
    "    def children(self):\n",
    "        return (self.left, self.right)\n",
    "\n",
    "    def nodes(self):\n",
    "        return (self.left, self.right)\n",
    "\n",
    "    def __repr__(self):\n",
    "        return '%s_%s' % (self.left, self.right)\n",
    "\n",
    "\n",
    "def huffman_code_tree(node, left=True, binString=''):\n",
    "    if type(node) is str:\n",
    "        return {node: binString}\n",
    "    (l, r) = node.children()\n",
    "    d = dict()\n",
    "    d.update(huffman_code_tree(l, True, binString + '0'))\n",
    "    d.update(huffman_code_tree(r, False, binString + '1'))\n",
    "    return d\n",
    "\n",
    "\n",
    "def get_encoding(counts):\n",
    "    nodes = counts.most_common()[::-1]\n",
    "\n",
    "    while len(nodes) > 1:\n",
    "        (key1, c1) = nodes[-1]\n",
    "        (key2, c2) = nodes[-2]\n",
    "        nodes = nodes[:-2]\n",
    "        node = NodeTree(key1, key2)\n",
    "        nodes.append((node, c1 + c2))\n",
    "\n",
    "        nodes = sorted(nodes, key=lambda x: x[1], reverse=True)\n",
    "    huffmanCode = huffman_code_tree(nodes[0][0])\n",
    "    return huffmanCode\n",
    "\n",
    "def print_huffman_code(counts, code):\n",
    "    print(' Char | Huffman code ')\n",
    "    print('----------------------')\n",
    "    for (char, _) in counts.most_common()[::-1]:\n",
    "        print(' %-4r |%12s' % (char, code[char]))\n",
    "\n",
    "code = get_encoding(countX)\n",
    "codeY = get_encoding(countY)\n",
    "print_huffman_code(countX, code)\n"
   ]
  },
  {
   "cell_type": "code",
   "execution_count": 58,
   "metadata": {},
   "outputs": [],
   "source": [
    "def calc_mean_length(probabilities, code):\n",
    "    res = 0\n",
    "    for char in probabilities:\n",
    "        res += probabilities[char] * len(code[char])\n",
    "    return res"
   ]
  },
  {
   "cell_type": "code",
   "execution_count": 59,
   "metadata": {},
   "outputs": [],
   "source": [
    "probabsX = calc_probabilities(countX, lx)\n",
    "probabsY = calc_probabilities(countY, ly)\n",
    "lcx = calc_mean_length(probabsX, code)\n",
    "lcy = calc_mean_length(probabsY, code)\n",
    "lcy2 = calc_mean_length(probabsY, codeY)\n"
   ]
  },
  {
   "cell_type": "code",
   "execution_count": 60,
   "metadata": {},
   "outputs": [
    {
     "name": "stdout",
     "output_type": "stream",
     "text": [
      "4.0639057100402844\n",
      "4.127388535031847\n",
      "-----\n",
      "4.05314575306802\n",
      "4.103205897479856\n",
      "4.098062746442653\n"
     ]
    }
   ],
   "source": [
    "print(hx)\n",
    "print(lcx)\n",
    "print(\"-----\")\n",
    "print(hy)\n",
    "print(lcy)\n",
    "print(lcy2)"
   ]
  }
 ],
 "metadata": {
  "interpreter": {
   "hash": "44a9cdcbdccbf05a880e90d2e6fe72470baab4d1b82472d890be0596ed887a6b"
  },
  "kernelspec": {
   "display_name": "",
   "language": "python",
   "name": "python3"
  },
  "language_info": {
   "codemirror_mode": {
    "name": "ipython",
    "version": 3
   },
   "file_extension": ".py",
   "mimetype": "text/x-python",
   "name": "python",
   "nbconvert_exporter": "python",
   "pygments_lexer": "ipython3",
   "version": "3.8.10"
  },
  "orig_nbformat": 4
 },
 "nbformat": 4,
 "nbformat_minor": 2
}
